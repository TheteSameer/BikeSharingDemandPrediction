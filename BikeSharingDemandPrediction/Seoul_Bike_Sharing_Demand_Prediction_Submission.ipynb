{
  "nbformat": 4,
  "nbformat_minor": 0,
  "metadata": {
    "colab": {
      "private_outputs": true,
      "provenance": [],
      "collapsed_sections": [
        "gIfDvo9L0UH2"
      ]
    },
    "kernelspec": {
      "name": "python3",
      "display_name": "Python 3"
    },
    "language_info": {
      "name": "python"
    }
  },
  "cells": [
    {
      "cell_type": "markdown",
      "source": [
        "# **Project Name**    - Seoul Bike Sharing Demand Prediction\n",
        "\n"
      ],
      "metadata": {
        "id": "vncDsAP0Gaoa"
      }
    },
    {
      "cell_type": "markdown",
      "source": [
        "##### **Project Type**    - Regression\n",
        "##### **Contribution**    - Individual\n",
        "\n"
      ],
      "metadata": {
        "id": "beRrZCGUAJYm"
      }
    },
    {
      "cell_type": "markdown",
      "source": [
        "# **Problem Statement**\n"
      ],
      "metadata": {
        "id": "yQaldy8SH6Dl"
      }
    },
    {
      "cell_type": "markdown",
      "source": [
        "**Currently Rental bikes are introduced in many urban cities for the enhancement of mobility comfort. It is important to make the rental bike available and accessible to the public at the right time as it lessens the waiting time. Eventually, providing the city with a stable supply of rental bikes becomes a major concern. The crucial part is the prediction of bike count required at each hour for the stable supply of rental bikes.**"
      ],
      "metadata": {
        "id": "DpeJGUA3kjGy"
      }
    },
    {
      "cell_type": "markdown",
      "source": [
        "#### **Define Your Business Objective?**"
      ],
      "metadata": {
        "id": "PH-0ReGfmX4f"
      }
    },
    {
      "cell_type": "markdown",
      "source": [
        "**Business Objective is to provide the prediction of bike count required at each hour for the stable supply of rental bikes & using suitable ML model and EDA for serving the purpose.**"
      ],
      "metadata": {
        "id": "PhDvGCAqmjP1"
      }
    },
    {
      "cell_type": "markdown",
      "source": [
        "***Data Description :*** "
      ],
      "metadata": {
        "id": "YDHWEuC5TuQB"
      }
    },
    {
      "cell_type": "markdown",
      "source": [
        "> The dataset contains weather information (Temperature, Humidity, Windspeed, Visibility, Dewpoint, Solar radiation, Snowfall, Rainfall), the number of bikes rented per hour and date information.\n",
        "* Attribute Information:\n",
        "* Date : year-month-day\n",
        "* Rented Bike count - Count of bikes rented at each hour\n",
        "* Hour - Hour of he day\n",
        "* Temperature-Temperature in Celsius\n",
        "* Humidity - %\n",
        "* Windspeed - m/s\n",
        "* Visibility - 10m\n",
        "* Dew point temperature - Celsius\n",
        "* Solar radiation - MJ/m2\n",
        "* Rainfall - mm\n",
        "* Snowfall - cm\n",
        "* Seasons - Winter, Spring, Summer, Autumn\n",
        "* Holiday - Holiday/No holiday\n",
        "* Functional Day - NoFunc(Non Functional Hours), Fun(Functional hours)"
      ],
      "metadata": {
        "id": "7m1-zETIT8Co"
      }
    },
    {
      "cell_type": "markdown",
      "source": [
        "# ***Let's Begin !***"
      ],
      "metadata": {
        "id": "O_i_v8NEhb9l"
      }
    },
    {
      "cell_type": "markdown",
      "source": [
        "### Import Libraries"
      ],
      "metadata": {
        "id": "Y3lxredqlCYt"
      }
    },
    {
      "cell_type": "code",
      "source": [
        "# Importing Libraries\n",
        "import numpy as np\n",
        "import pandas as pd\n",
        "import matplotlib.pyplot as plt\n",
        "import seaborn as sns\n",
        "from sklearn.model_selection import train_test_split\n",
        "from sklearn.feature_selection import VarianceThreshold\n",
        "from sklearn.model_selection import cross_val_score\n",
        "from sklearn.model_selection import RepeatedKFold\n",
        "from sklearn.ensemble import GradientBoostingRegressor\n",
        "from sklearn.metrics import mean_absolute_error, mean_squared_error,r2_score"
      ],
      "metadata": {
        "id": "M8Vqi-pPk-HR"
      },
      "execution_count": null,
      "outputs": []
    },
    {
      "cell_type": "markdown",
      "source": [
        "### Dataset Loading"
      ],
      "metadata": {
        "id": "3RnN4peoiCZX"
      }
    },
    {
      "cell_type": "code",
      "source": [
        "# Loading Dataset\n",
        "from google.colab import drive\n",
        "drive.mount('/content/drive')"
      ],
      "metadata": {
        "id": "4CkvbW_SlZ_R"
      },
      "execution_count": null,
      "outputs": []
    },
    {
      "cell_type": "code",
      "source": [
        "SeoulBikeData = pd.read_csv('/content/drive/MyDrive/AlmaBetter/projectsAlmaBetter/SeoulBikeData.csv',sep=',',encoding='latin')"
      ],
      "metadata": {
        "id": "CO8WkElOVEAT"
      },
      "execution_count": null,
      "outputs": []
    },
    {
      "cell_type": "markdown",
      "source": [
        "### Dataset First View"
      ],
      "metadata": {
        "id": "x71ZqKXriCWQ"
      }
    },
    {
      "cell_type": "code",
      "source": [
        "# Dataset First Look\n",
        "SeoulBikeData.head(-5)"
      ],
      "metadata": {
        "id": "LWNFOSvLl09H"
      },
      "execution_count": null,
      "outputs": []
    },
    {
      "cell_type": "markdown",
      "source": [
        "### Dataset Rows & Columns count"
      ],
      "metadata": {
        "id": "7hBIi_osiCS2"
      }
    },
    {
      "cell_type": "code",
      "source": [
        "# Dataset Rows & Columns count\n",
        "#SeoulBikeData.describe\n",
        "#SeoulBikeData.info\n",
        "SeoulBikeData.shape\n"
      ],
      "metadata": {
        "id": "Kllu7SJgmLij"
      },
      "execution_count": null,
      "outputs": []
    },
    {
      "cell_type": "markdown",
      "source": [
        "### Dataset Information"
      ],
      "metadata": {
        "id": "JlHwYmJAmNHm"
      }
    },
    {
      "cell_type": "code",
      "source": [
        "# Dataset Info\n",
        "SeoulBikeData.info"
      ],
      "metadata": {
        "id": "e9hRXRi6meOf"
      },
      "execution_count": null,
      "outputs": []
    },
    {
      "cell_type": "markdown",
      "source": [
        "#### Duplicate Values"
      ],
      "metadata": {
        "id": "35m5QtbWiB9F"
      }
    },
    {
      "cell_type": "code",
      "source": [
        "# Dataset Duplicate Value Count\n",
        "SeoulBikeData.duplicated().value_counts()"
      ],
      "metadata": {
        "id": "1sLdpKYkmox0"
      },
      "execution_count": null,
      "outputs": []
    },
    {
      "cell_type": "markdown",
      "source": [
        "#### Missing Values/Null Values"
      ],
      "metadata": {
        "id": "PoPl-ycgm1ru"
      }
    },
    {
      "cell_type": "code",
      "source": [
        "# Missing Values/Null Values Count\n",
        "SeoulBikeData.isnull().value_counts()"
      ],
      "metadata": {
        "id": "GgHWkxvamxVg"
      },
      "execution_count": null,
      "outputs": []
    },
    {
      "cell_type": "code",
      "source": [
        "# Visualizing the missing values\n",
        "SeoulBikeData.isnull().sum()"
      ],
      "metadata": {
        "id": "3q5wnI3om9sJ"
      },
      "execution_count": null,
      "outputs": []
    },
    {
      "cell_type": "markdown",
      "source": [
        "### What did you know about your dataset?"
      ],
      "metadata": {
        "id": "H0kj-8xxnORC"
      }
    },
    {
      "cell_type": "markdown",
      "source": [
        "**As per the observations and results of above two sets of code ,we can coclude that there are no missing/NaN or duplicate values present in the dataset.**"
      ],
      "metadata": {
        "id": "gfoNAAC-nUe_"
      }
    },
    {
      "cell_type": "code",
      "source": [
        "# No missin Values in our dataset\n",
        "plt.figure(figsize=(15, 5))\n",
        "sns.heatmap(SeoulBikeData.isnull(), cbar=True, yticklabels=False)\n",
        "plt.xlabel(\"Column_Name\", size=10, weight=\"bold\")\n",
        "plt.title(\"Places of missing values in column\",fontweight=\"bold\",size=17)\n",
        "plt.show()"
      ],
      "metadata": {
        "id": "zAF9BLrgYBqZ"
      },
      "execution_count": null,
      "outputs": []
    },
    {
      "cell_type": "markdown",
      "source": [
        "## ***2. Understanding Your Variables***"
      ],
      "metadata": {
        "id": "nA9Y7ga8ng1Z"
      }
    },
    {
      "cell_type": "code",
      "source": [
        "# Dataset Columns\n",
        "SeoulBikeData.columns"
      ],
      "metadata": {
        "id": "j7xfkqrt5Ag5"
      },
      "execution_count": null,
      "outputs": []
    },
    {
      "cell_type": "code",
      "source": [
        "# Dataset Describe\n",
        "SeoulBikeData.describe"
      ],
      "metadata": {
        "id": "DnOaZdaE5Q5t"
      },
      "execution_count": null,
      "outputs": []
    },
    {
      "cell_type": "markdown",
      "source": [
        "**As we can see the name of the columns are different and that might be a problem in the future for modeling hence we have to rename those columns.**"
      ],
      "metadata": {
        "id": "PHr5TXwsWKAM"
      }
    },
    {
      "cell_type": "code",
      "source": [
        "#Renaming the columns to our required column names\n",
        "SeoulBikeData.rename({\"Temperature(°C)\": \"Temperature\",  \n",
        "                      \"Functioning Day\":\"Functioning_Day\",\n",
        "           \"Humidity(%)\": \"Humidity\",  \n",
        "           \"Wind speed (m/s)\": \"Wind_speed\",\n",
        "           \"Visibility (10m)\": \"Visibility\",\n",
        "           \"Dew point temperature(°C)\": \"Dew_point_temperature\",\n",
        "           \"Solar Radiation (MJ/m2)\": \"Solar_Radiation\",\n",
        "           \"Snowfall (cm)\": \"Snowfall\",\n",
        "           \"Rainfall(mm)\": \"Rainfall\",\n",
        "           \"Rented Bike Count\": \"Rented_Bike_Count\"},  \n",
        "          axis = \"columns\", inplace = True)"
      ],
      "metadata": {
        "id": "grLWur0sWdvu"
      },
      "execution_count": null,
      "outputs": []
    },
    {
      "cell_type": "code",
      "source": [
        "SeoulBikeData.head(-5)"
      ],
      "metadata": {
        "id": "FCjxxCVtWq8b"
      },
      "execution_count": null,
      "outputs": []
    },
    {
      "cell_type": "markdown",
      "source": [
        "### Check Unique Values for each variable."
      ],
      "metadata": {
        "id": "u3PMJOP6ngxN"
      }
    },
    {
      "cell_type": "code",
      "source": [
        "# Check Unique Values for each variable.\n",
        "print(pd.unique(SeoulBikeData['Temperature']))\n",
        "print(pd.unique(SeoulBikeData['Functioning_Day']))\n",
        "print(pd.unique(SeoulBikeData['Humidity']))\n",
        "print(pd.unique(SeoulBikeData['Wind_speed']))\n",
        "print(pd.unique(SeoulBikeData['Visibility']))\n",
        "print(pd.unique(SeoulBikeData['Dew_point_temperature']))\n",
        "print(pd.unique(SeoulBikeData['Solar_Radiation']))\n",
        "print(pd.unique(SeoulBikeData['Snowfall']))\n",
        "print(pd.unique(SeoulBikeData['Rainfall']))\n",
        "print(pd.unique(SeoulBikeData['Rented_Bike_Count']))\n"
      ],
      "metadata": {
        "id": "zms12Yq5n-jE"
      },
      "execution_count": null,
      "outputs": []
    },
    {
      "cell_type": "code",
      "source": [
        "#@title Box plot for Dependent variable\n",
        "fig = plt.figure(figsize =(16,4))\n",
        "sns.boxplot(SeoulBikeData['Rented_Bike_Count'])"
      ],
      "metadata": {
        "id": "v23sv7Y4XeyT"
      },
      "execution_count": null,
      "outputs": []
    },
    {
      "cell_type": "markdown",
      "source": [
        "Exploring Catagorical Variables"
      ],
      "metadata": {
        "id": "FnjN_cwmsRMB"
      }
    },
    {
      "cell_type": "code",
      "source": [
        "#Exploration using graphs and plot\n",
        "Holiday_rent = pd.DataFrame(SeoulBikeData.groupby('Holiday').agg({'Rented_Bike_Count':'mean'}))\n",
        "Season_rent = pd.DataFrame(SeoulBikeData.groupby('Seasons').agg({'Rented_Bike_Count':'mean'}))\n",
        "\n",
        "# Bike rents in Seasons and holidays\n",
        "fig, ax = plt.subplots(2,2,figsize=(15,10))\n",
        "ax1=plt.subplot(2, 2,1)\n",
        "sns.barplot(x=Holiday_rent.index, y = Holiday_rent['Rented_Bike_Count'])\n",
        "ax1=plt.subplot(2, 2,2)\n",
        "sns.barplot(x=Season_rent.index, y = Season_rent['Rented_Bike_Count'])\n",
        "\n",
        "# How many Total Seasons and Holidays\n",
        "ax1=plt.subplot(2, 2,3)\n",
        "SeoulBikeData['Holiday'].value_counts().plot(kind='bar')\n",
        "plt.xlabel('Holiday')\n",
        "plt.ylabel('Counts')\n",
        "ax1=plt.subplot(2, 2,4)\n",
        "SeoulBikeData['Seasons'].value_counts().plot(kind='bar')\n",
        "plt.xlabel('Seasons')\n",
        "plt.ylabel('Counts')"
      ],
      "metadata": {
        "id": "m9LVg53qsSzy"
      },
      "execution_count": null,
      "outputs": []
    },
    {
      "cell_type": "markdown",
      "source": [
        "**:-From this we can conclude that the large number of bikes are being rented when there is a working day/No Holiday and more often in summer season. Even in general also, bikes are being rented more in the working day itself regardless of the seasons.**"
      ],
      "metadata": {
        "id": "ivu3VQRFJ18e"
      }
    },
    {
      "cell_type": "markdown",
      "source": [
        "**Exploring Numerical Variables**"
      ],
      "metadata": {
        "id": "alf2_qREKJh7"
      }
    },
    {
      "cell_type": "code",
      "source": [
        "numerical_features = ['Hour', 'Temperature', 'Humidity',\n",
        "       'Wind_speed', 'Visibility', 'Solar_Radiation',\n",
        "       'Rainfall', 'Snowfall']\n",
        "\n",
        "# List of colors in the color palettes\n",
        "rgb_values = sns.color_palette(\"Set1\", 9)\n",
        "# Map continents to the colors\n",
        "color_map = dict(zip(numerical_features, rgb_values))"
      ],
      "metadata": {
        "id": "cm6lpHorKMc5"
      },
      "execution_count": null,
      "outputs": []
    },
    {
      "cell_type": "code",
      "source": [
        "plt.rcParams['figure.figsize'] = (15, 5)\n",
        "for col, key in zip(numerical_features, color_map):\n",
        "  plt.figure()\n",
        "  sns.regplot(x=SeoulBikeData[col], y = SeoulBikeData['Rented_Bike_Count'],scatter_kws={\"color\": color_map[key]}, line_kws={\"color\": \"black\"})"
      ],
      "metadata": {
        "id": "UBK2-HpLKMZH"
      },
      "execution_count": null,
      "outputs": []
    },
    {
      "cell_type": "markdown",
      "source": [
        "* *Following are some of the conclusions I have drawn :*\n",
        "\n",
        "**Hour:**\n",
        "\n",
        "There must be high demand during the office timings around 8 A.M. and 8 P.M., also for early morning and late evening we are having a relatably different trends. And, definately low demand between 8 A.M. and 8 P.M.\n",
        "\n",
        "**Temperature:**\n",
        "\n",
        "In general, temperature has negative correlation with the bike demands. So, as the temperature increases, the bike count also increases.\n",
        "\n",
        "**Humidity:**\n",
        "\n",
        "Humidity acts as a deterrent to a bike ride. The bike count decreases when the humidity increases.\n",
        "\n",
        "**Wind Speed:**\n",
        "\n",
        "Due to Wind speed , there is certain increase in the bike count but the change is very small.\n",
        "\n",
        "**Visibility:**\n",
        "\n",
        "If there is low visibility, people won't prefer to ride the bike. So,as the visibility increases , the number of bike count also increases.\n",
        "\n",
        "**Rainfall and Snowfall:**\n",
        "\n",
        "If there is rainfall/Snowfall, people don't prefer to travel out. And, hence the bike count decreases."
      ],
      "metadata": {
        "id": "ks_IRH4yKhOZ"
      }
    },
    {
      "cell_type": "markdown",
      "source": [
        "**3D plot representing Rainfall , Snowfall , Rented bike count**"
      ],
      "metadata": {
        "id": "Dx36a4pcLwff"
      }
    },
    {
      "cell_type": "code",
      "source": [
        "import plotly.express as px\n",
        "\n",
        "fig = px.scatter_3d(SeoulBikeData, x='Rainfall', y='Snowfall', z='Rented_Bike_Count',\n",
        "                    size_max=18,\n",
        "               opacity=0.7)\n",
        "\n",
        "# tight layout\n",
        "fig.update_layout(margin=dict(l=0, r=0, b=0, t=0))"
      ],
      "metadata": {
        "id": "i_U0CbZVLsFG"
      },
      "execution_count": null,
      "outputs": []
    },
    {
      "cell_type": "code",
      "source": [],
      "metadata": {
        "id": "6jNAuXh6MNK6"
      },
      "execution_count": null,
      "outputs": []
    },
    {
      "cell_type": "markdown",
      "source": [
        "**Change in Bike Renting with Change in hours**"
      ],
      "metadata": {
        "id": "JHyIlq-QMMvS"
      }
    },
    {
      "cell_type": "code",
      "source": [
        "# group by Hrs and get average Bikes rented, and precent change\n",
        "avg_rent_hrs = SeoulBikeData.groupby('Hour')['Rented_Bike_Count'].mean()\n",
        "pct_rent_hrs = SeoulBikeData.groupby('Hour')['Rented_Bike_Count'].sum().pct_change()\n",
        "\n",
        "fig, (axis1,axis2) = plt.subplots(2,1,sharex=True,figsize=(15,8))\n",
        "\n",
        "# plot average rent over time(hrs)\n",
        "ax1 = avg_rent_hrs.plot(legend=True,ax=axis1,marker='o',title=\"Average Bikes Rented Per Hr\")\n",
        "ax1.set_xticks(range(len(avg_rent_hrs)))\n",
        "ax1.set_xticklabels(avg_rent_hrs.index.tolist(), rotation=85)\n",
        "\n",
        "# plot precent change for rent over time(hrs)\n",
        "ax2 = pct_rent_hrs.plot(legend=True,ax=axis2,marker='o',rot=85,colormap=\"summer\",title=\"Bike Rent Percent Change\")\n",
        "#ax1.set_xticks(range(len(avg_rent_hrs)))"
      ],
      "metadata": {
        "id": "8kewvo-PMV6h"
      },
      "execution_count": null,
      "outputs": []
    },
    {
      "cell_type": "markdown",
      "source": [
        "To get the types of seasons in our dataset:"
      ],
      "metadata": {
        "id": "RENwGhPTwO-F"
      }
    },
    {
      "cell_type": "code",
      "source": [
        "SeoulBikeData.Seasons.unique()"
      ],
      "metadata": {
        "id": "2zo1OQBSwN_D"
      },
      "execution_count": null,
      "outputs": []
    },
    {
      "cell_type": "markdown",
      "source": [
        "To get the unique holiday in our dataset:"
      ],
      "metadata": {
        "id": "e6uyR_FFxIdu"
      }
    },
    {
      "cell_type": "code",
      "source": [
        "SeoulBikeData.Holiday.unique()"
      ],
      "metadata": {
        "id": "vBf5L_htxJPr"
      },
      "execution_count": null,
      "outputs": []
    },
    {
      "cell_type": "markdown",
      "source": [
        "To get the unique number of hours in our dataset:"
      ],
      "metadata": {
        "id": "TNxcI6vhxRpr"
      }
    },
    {
      "cell_type": "code",
      "source": [
        "SeoulBikeData.Hour.unique()"
      ],
      "metadata": {
        "id": "XBmHw4PzxSNb"
      },
      "execution_count": null,
      "outputs": []
    },
    {
      "cell_type": "markdown",
      "source": [
        "Since, we have zero count for our dependent variable when there is no functioning day. So, to keep our dataset more intact, dropping the data where there is no functioning day."
      ],
      "metadata": {
        "id": "Pkfsdp-G8Xb1"
      }
    },
    {
      "cell_type": "code",
      "source": [
        "#SeoulBikeData[SeoulBikeData['Functioning_Day'] != 'Yes']\n",
        "SeoulBikeData = SeoulBikeData[SeoulBikeData['Functioning_Day'] == 'Yes']\n",
        "SeoulBikeData.drop('Functioning_Day', axis = 1, inplace =True)"
      ],
      "metadata": {
        "id": "nuePp6ZH6qun"
      },
      "execution_count": null,
      "outputs": []
    },
    {
      "cell_type": "code",
      "source": [
        "SeoulBikeData.head()"
      ],
      "metadata": {
        "id": "XVavk5_z8h_z"
      },
      "execution_count": null,
      "outputs": []
    },
    {
      "cell_type": "markdown",
      "source": [
        "Assigning the categorical values to the columns for building a model:"
      ],
      "metadata": {
        "id": "YIDh5VT-D5qQ"
      }
    },
    {
      "cell_type": "code",
      "source": [
        "def Functioning_Day(row):\n",
        "  if str(row) == 'Yes':\n",
        "    return 1\n",
        "  else :\n",
        "    return 0"
      ],
      "metadata": {
        "id": "08mRNVLjD8Th"
      },
      "execution_count": null,
      "outputs": []
    },
    {
      "cell_type": "code",
      "source": [
        "def Holiday_label(row):\n",
        "  if str(row) == 'Holiday':\n",
        "    return 1\n",
        "  else :\n",
        "    return 0"
      ],
      "metadata": {
        "id": "5xfHntKtEF1l"
      },
      "execution_count": null,
      "outputs": []
    },
    {
      "cell_type": "code",
      "source": [
        "SeoulBikeData['Holiday']=SeoulBikeData.apply(lambda row : Holiday_label(row['Holiday']),axis=1)\n",
        "\n",
        "SeoulBikeData['Holiday'].value_counts()"
      ],
      "metadata": {
        "id": "gE7pe7GiELd-"
      },
      "execution_count": null,
      "outputs": []
    },
    {
      "cell_type": "code",
      "source": [
        "plt.figure(figsize=(25,10))\n",
        "cor=SeoulBikeData.corr().abs()\n",
        "mask = np.triu(np.ones_like(cor, dtype=bool))\n",
        "sns.heatmap(cor,mask=mask, annot=True, cmap='coolwarm')"
      ],
      "metadata": {
        "id": "3aQGSeXMELaz"
      },
      "execution_count": null,
      "outputs": []
    },
    {
      "cell_type": "markdown",
      "source": [
        "From the above heatmap, we can see that Temperature and Dew_point_temperature is highy correlated, keeping the factor of 0.91 . And, then we have hour in the graph which is having good correlation with our dependent variable."
      ],
      "metadata": {
        "id": "kuAAVsgMEXCh"
      }
    },
    {
      "cell_type": "markdown",
      "source": [
        "we need to map seasons also"
      ],
      "metadata": {
        "id": "dVFWUA5_EgNY"
      }
    },
    {
      "cell_type": "code",
      "source": [
        "def Seasons_label(row):\n",
        "  if str(row) == 'Winter':\n",
        "    return 0\n",
        "  elif str(row) == 'Autumn':\n",
        "    return 1\n",
        "  elif str(row) == 'Spring':\n",
        "    return 2\n",
        "  elif  str(row) == 'Summer':\n",
        "    return 3"
      ],
      "metadata": {
        "id": "PDDNpluvELW3"
      },
      "execution_count": null,
      "outputs": []
    },
    {
      "cell_type": "code",
      "source": [
        "SeoulBikeData['Seasons']=SeoulBikeData.apply(lambda row : Seasons_label(row['Seasons']),axis=1)\n",
        "\n",
        "SeoulBikeData['Seasons'].value_counts()"
      ],
      "metadata": {
        "id": "ionqNjCTELVD"
      },
      "execution_count": null,
      "outputs": []
    },
    {
      "cell_type": "code",
      "source": [
        "def Function_day(row):\n",
        "  if str(row) == 'Yes':\n",
        "    return 1\n",
        "  else :\n",
        "    return 0"
      ],
      "metadata": {
        "id": "iKzXrPLIELRn"
      },
      "execution_count": null,
      "outputs": []
    },
    {
      "cell_type": "code",
      "source": [
        "plt.figure(figsize=(20,10))\n",
        "sns.heatmap(SeoulBikeData.corr().abs(),annot=True,cmap='coolwarm')"
      ],
      "metadata": {
        "id": "M7Jz9MjEELPn"
      },
      "execution_count": null,
      "outputs": []
    },
    {
      "cell_type": "markdown",
      "source": [
        "**Identifying the outliers:**"
      ],
      "metadata": {
        "id": "jPB_fWvxFMoi"
      }
    },
    {
      "cell_type": "code",
      "source": [
        "sns.set(font_scale=1.0)\n",
        "fig, axes = plt.subplots(nrows=4,ncols=2)\n",
        "fig.set_size_inches(15, 15)\n",
        "sns.boxplot(data=SeoulBikeData,y=\"Rented_Bike_Count\",x=\"Humidity\",orient=\"v\",ax=axes[0][0])\n",
        "sns.boxplot(data=SeoulBikeData,y=\"Rented_Bike_Count\",x=\"Hour\",orient=\"v\",ax=axes[0][0])\n",
        "sns.boxplot(data=SeoulBikeData,y=\"Rented_Bike_Count\",x=\"Temperature\",orient=\"v\",ax=axes[1][0])\n",
        "sns.boxplot(data=SeoulBikeData,y=\"Rented_Bike_Count\",x=\"Wind_speed\",orient=\"v\",ax=axes[1][1])\n",
        "sns.boxplot(data=SeoulBikeData,y=\"Rented_Bike_Count\",x=\"Visibility\",orient=\"v\",ax=axes[2][0])\n",
        "sns.boxplot(data=SeoulBikeData,y=\"Rented_Bike_Count\",x=\"Seasons\",orient=\"v\",ax=axes[2][1])\n",
        "sns.boxplot(data=SeoulBikeData,y=\"Rented_Bike_Count\",x=\"Holiday\",orient=\"v\",ax=axes[3][0])\n",
        "sns.boxplot(data=SeoulBikeData,y=\"Rented_Bike_Count\",x=\"Solar_Radiation\",orient=\"v\",ax=axes[3][1])"
      ],
      "metadata": {
        "id": "iWdWDiAjE7HG"
      },
      "execution_count": null,
      "outputs": []
    },
    {
      "cell_type": "markdown",
      "source": [
        "Since , Date and Dew_point_temperature shows high correlation with our dependent variable, so dropping these two columns."
      ],
      "metadata": {
        "id": "mSRlcrdAHeFn"
      }
    },
    {
      "cell_type": "code",
      "source": [
        "# Data for all the independent variables\n",
        "\n",
        "SeoulBikeData = SeoulBikeData.drop(labels='Date',axis=1)\n",
        "SeoulBikeData = SeoulBikeData.drop(labels='Dew_point_temperature',axis=1,)"
      ],
      "metadata": {
        "id": "uOq5nsHJE7Eo"
      },
      "execution_count": null,
      "outputs": []
    },
    {
      "cell_type": "code",
      "source": [
        "# Data for all the independent variables\n",
        "\n",
        "X = SeoulBikeData.drop(labels='Rented_Bike_Count',axis=1)\n",
        "\n",
        "# Data for the dependent variable\n",
        "\n",
        "Y = SeoulBikeData['Rented_Bike_Count']"
      ],
      "metadata": {
        "id": "vW0Cral_E7A8"
      },
      "execution_count": null,
      "outputs": []
    },
    {
      "cell_type": "code",
      "source": [
        "#X\n",
        "#Y"
      ],
      "metadata": {
        "id": "JD7EAO-eE6-l"
      },
      "execution_count": null,
      "outputs": []
    },
    {
      "cell_type": "markdown",
      "source": [
        "#Linear Regression"
      ],
      "metadata": {
        "id": "ODbrkQDSHmUf"
      }
    },
    {
      "cell_type": "code",
      "source": [
        "# import libraray\n",
        "from sklearn.model_selection import train_test_split\n",
        "from sklearn.linear_model import LinearRegression,Lasso,Ridge"
      ],
      "metadata": {
        "id": "UvN8ufZtE66Z"
      },
      "execution_count": null,
      "outputs": []
    },
    {
      "cell_type": "code",
      "source": [
        "# Splitting the dataset into the Training set and Test set\n",
        "\n",
        "X_train, X_test, Y_train, Y_test = train_test_split(X, Y, test_size = 0.25, random_state = 0)"
      ],
      "metadata": {
        "id": "-PKK0s2KE64P"
      },
      "execution_count": null,
      "outputs": []
    },
    {
      "cell_type": "code",
      "source": [
        "regressor = LinearRegression()\n",
        "regressor.fit(X_train, Y_train)"
      ],
      "metadata": {
        "id": "yg018JBxE60T"
      },
      "execution_count": null,
      "outputs": []
    },
    {
      "cell_type": "code",
      "source": [
        "#Shapes of train and test data \n",
        "X_train.shape,X_test.shape,Y_train.shape,Y_test.shape"
      ],
      "metadata": {
        "id": "uUwiTdTnE6yG"
      },
      "execution_count": null,
      "outputs": []
    },
    {
      "cell_type": "code",
      "source": [
        "regressor = LinearRegression()\n",
        "regressor.fit(X_train, Y_train)"
      ],
      "metadata": {
        "id": "lFbOJXaME6uc"
      },
      "execution_count": null,
      "outputs": []
    },
    {
      "cell_type": "code",
      "source": [
        "regressor.intercept_"
      ],
      "metadata": {
        "id": "6cRV5EtcE6sq"
      },
      "execution_count": null,
      "outputs": []
    },
    {
      "cell_type": "code",
      "source": [
        "regressor.coef_"
      ],
      "metadata": {
        "id": "N-LLL2uBE6oK"
      },
      "execution_count": null,
      "outputs": []
    },
    {
      "cell_type": "code",
      "source": [
        "y_pred_train=regressor.predict(X_train)\n",
        "print(y_pred_train)"
      ],
      "metadata": {
        "id": "rvHdqS5hE6mL"
      },
      "execution_count": null,
      "outputs": []
    },
    {
      "cell_type": "code",
      "source": [
        "y_pred=regressor.predict(X_test)\n",
        "print(y_pred)"
      ],
      "metadata": {
        "id": "ycKmWFQbE6h8"
      },
      "execution_count": null,
      "outputs": []
    },
    {
      "cell_type": "markdown",
      "source": [
        "**Evaluation Matrix**"
      ],
      "metadata": {
        "id": "CApT8cOBvaw_"
      }
    },
    {
      "cell_type": "code",
      "source": [
        "from sklearn.metrics import r2_score,mean_absolute_error,mean_squared_error,accuracy_score"
      ],
      "metadata": {
        "id": "AZBqF14SE6fz"
      },
      "execution_count": null,
      "outputs": []
    },
    {
      "cell_type": "code",
      "source": [
        "r2_score(Y_test, y_pred)"
      ],
      "metadata": {
        "id": "mIkbMiWiE6cC"
      },
      "execution_count": null,
      "outputs": []
    },
    {
      "cell_type": "code",
      "source": [
        "print(\"Adjusted R2 : \",1-(1-r2_score((Y_test), (y_pred)))*((X_test.shape[0]-1)/(X_test.shape[0]-X_test.shape[1]-1)))"
      ],
      "metadata": {
        "id": "OVAuta3FE6aB"
      },
      "execution_count": null,
      "outputs": []
    },
    {
      "cell_type": "code",
      "source": [
        "MSE  = mean_squared_error(Y_test, y_pred)\n",
        "print(\"MSE :\" , MSE)\n",
        "\n",
        "RMSE = np.sqrt(MSE)\n",
        "print(\"RMSE :\" ,RMSE)"
      ],
      "metadata": {
        "id": "IXHvz-meE6Wf"
      },
      "execution_count": null,
      "outputs": []
    },
    {
      "cell_type": "code",
      "source": [
        "MAE  = mean_absolute_error(Y_test, y_pred)\n",
        "print(\"MAE :\" , MAE)\n"
      ],
      "metadata": {
        "id": "zufFeZihE6UL"
      },
      "execution_count": null,
      "outputs": []
    },
    {
      "cell_type": "code",
      "source": [
        "plt.scatter(Y_test, y_pred)\n",
        "plt.xlabel('Actual')\n",
        "plt.ylabel('Predicted')"
      ],
      "metadata": {
        "id": "RjlQlj0uE6QK"
      },
      "execution_count": null,
      "outputs": []
    },
    {
      "cell_type": "code",
      "source": [
        "plt.figure(figsize=(20,10))\n",
        "plt.plot(y_pred)\n",
        "plt.plot(np.array(Y_test))\n",
        "plt.legend([\"Predicted\",\"Actual\"])\n",
        "plt.xlabel('No of Test Data')\n",
        "plt.show()"
      ],
      "metadata": {
        "id": "-4kRmcAmE6Oa"
      },
      "execution_count": null,
      "outputs": []
    },
    {
      "cell_type": "markdown",
      "source": [
        "# **Lasso Regression**"
      ],
      "metadata": {
        "id": "uFYOZpB0wFVS"
      }
    },
    {
      "cell_type": "code",
      "source": [
        "lasso = Lasso(alpha=0.001)\n",
        "lasso.fit(X_train, Y_train)"
      ],
      "metadata": {
        "id": "sk6WXUFQE6Kq"
      },
      "execution_count": null,
      "outputs": []
    },
    {
      "cell_type": "code",
      "source": [
        "y_pred=lasso.predict(X_test)"
      ],
      "metadata": {
        "id": "K63pOQN-E6I7"
      },
      "execution_count": null,
      "outputs": []
    },
    {
      "cell_type": "code",
      "source": [
        "r2_score(Y_test, y_pred)"
      ],
      "metadata": {
        "id": "RruaAWI7E6FA"
      },
      "execution_count": null,
      "outputs": []
    },
    {
      "cell_type": "code",
      "source": [
        "MSE  = mean_squared_error(Y_test, y_pred)\n",
        "print(\"MSE :\" , MSE)\n",
        "\n",
        "RMSE = np.sqrt(MSE)\n",
        "print(\"RMSE :\" ,RMSE)"
      ],
      "metadata": {
        "id": "nI500JIzE6DP"
      },
      "execution_count": null,
      "outputs": []
    },
    {
      "cell_type": "code",
      "source": [
        "MAE  = mean_absolute_error(Y_test, y_pred)\n",
        "print(\"MAE :\" , MAE)"
      ],
      "metadata": {
        "id": "NlgFoosGE5_c"
      },
      "execution_count": null,
      "outputs": []
    },
    {
      "cell_type": "markdown",
      "source": [
        "# Ridge Rigression"
      ],
      "metadata": {
        "id": "QyeaUPsAwiVJ"
      }
    },
    {
      "cell_type": "code",
      "source": [
        "# Hyperparameter tuning\n",
        "\n",
        "from sklearn.model_selection import GridSearchCV\n",
        "ridge = Ridge(alpha=30)\n",
        "ridge.fit(X_train,Y_train)"
      ],
      "metadata": {
        "id": "7PheqAJ6E59B"
      },
      "execution_count": null,
      "outputs": []
    },
    {
      "cell_type": "code",
      "source": [
        "y_pred=ridge.predict(X_test)"
      ],
      "metadata": {
        "id": "62tGHKocwqXh"
      },
      "execution_count": null,
      "outputs": []
    },
    {
      "cell_type": "code",
      "source": [
        "r2_score(Y_test, y_pred)"
      ],
      "metadata": {
        "id": "nPFTWopJwqsZ"
      },
      "execution_count": null,
      "outputs": []
    },
    {
      "cell_type": "code",
      "source": [
        "MSE  = mean_squared_error(Y_test, y_pred)\n",
        "print(\"MSE :\" , MSE)\n",
        "\n",
        "RMSE = np.sqrt(MSE)\n",
        "print(\"RMSE :\" ,RMSE)"
      ],
      "metadata": {
        "id": "jd9EdmGwwq8z"
      },
      "execution_count": null,
      "outputs": []
    },
    {
      "cell_type": "code",
      "source": [
        "MAE  = mean_absolute_error(Y_test, y_pred)\n",
        "print(\"MAE :\" , MAE)"
      ],
      "metadata": {
        "id": "nvGgvL4VwrCV"
      },
      "execution_count": null,
      "outputs": []
    },
    {
      "cell_type": "markdown",
      "source": [
        "# Decision Tree Regression"
      ],
      "metadata": {
        "id": "jmeztsosw3uf"
      }
    },
    {
      "cell_type": "code",
      "source": [
        "from sklearn.tree import DecisionTreeRegressor\n",
        "tree = DecisionTreeRegressor()"
      ],
      "metadata": {
        "id": "e48DaFMZwrHz"
      },
      "execution_count": null,
      "outputs": []
    },
    {
      "cell_type": "code",
      "source": [
        "tree.fit(X_train,Y_train)"
      ],
      "metadata": {
        "id": "UCyx4AtZwrMI"
      },
      "execution_count": null,
      "outputs": []
    },
    {
      "cell_type": "code",
      "source": [
        "y_pred=tree.predict(X_test)"
      ],
      "metadata": {
        "id": "IDl2qWIGwrQl"
      },
      "execution_count": null,
      "outputs": []
    },
    {
      "cell_type": "code",
      "source": [
        "r2_score(Y_test, y_pred)"
      ],
      "metadata": {
        "id": "C8vuh7qwwrVh"
      },
      "execution_count": null,
      "outputs": []
    },
    {
      "cell_type": "code",
      "source": [
        "print(\"Adjusted R2 : \",1-(1-r2_score((Y_test), (y_pred)))*((X_test.shape[0]-1)/(X_test.shape[0]-X_test.shape[1]-1)))"
      ],
      "metadata": {
        "id": "rugGUkQbxLKN"
      },
      "execution_count": null,
      "outputs": []
    },
    {
      "cell_type": "code",
      "source": [
        "MSE  = mean_squared_error(Y_test, y_pred)\n",
        "print(\"MSE :\" , MSE)\n",
        "\n",
        "RMSE = np.sqrt(MSE)\n",
        "print(\"RMSE :\" ,RMSE)"
      ],
      "metadata": {
        "id": "jidrYhikxLHM"
      },
      "execution_count": null,
      "outputs": []
    },
    {
      "cell_type": "code",
      "source": [
        "MAE  = mean_absolute_error(Y_test, y_pred)\n",
        "print(\"MAE :\" , MAE)"
      ],
      "metadata": {
        "id": "fHkGNImpxLEv"
      },
      "execution_count": null,
      "outputs": []
    },
    {
      "cell_type": "code",
      "source": [
        "plt.scatter(Y_test, y_pred)\n",
        "plt.xlabel('Actual')\n",
        "plt.ylabel('Predicted')"
      ],
      "metadata": {
        "id": "vu2IzMETxLB9"
      },
      "execution_count": null,
      "outputs": []
    },
    {
      "cell_type": "code",
      "source": [
        "plt.figure(figsize=(12,8))\n",
        "plt.plot(y_pred)\n",
        "plt.plot(np.array(Y_test))\n",
        "plt.legend([\"Predicted\",\"Actual\"])\n",
        "plt.xlabel('No of Test Data')\n",
        "plt.show()"
      ],
      "metadata": {
        "id": "f1wQmYrAxK_Y"
      },
      "execution_count": null,
      "outputs": []
    },
    {
      "cell_type": "code",
      "source": [
        "tree.feature_importances_"
      ],
      "metadata": {
        "id": "P7LEMhGQxK8l"
      },
      "execution_count": null,
      "outputs": []
    },
    {
      "cell_type": "code",
      "source": [
        "features = X.columns\n",
        "importances = tree.feature_importances_\n",
        "indices = np.argsort(importances)"
      ],
      "metadata": {
        "id": "WLF_SHMCxK6K"
      },
      "execution_count": null,
      "outputs": []
    },
    {
      "cell_type": "code",
      "source": [
        "plt.figure(figsize=(12,9))\n",
        "plt.title('Feature Importance')\n",
        "plt.barh(range(len(indices)), importances[indices], color='red', align='center')\n",
        "plt.yticks(range(len(indices)), [features[i] for i in indices])\n",
        "plt.xlabel('Relative Importance')\n",
        "plt.show()"
      ],
      "metadata": {
        "id": "_OZqeOirxK3I"
      },
      "execution_count": null,
      "outputs": []
    },
    {
      "cell_type": "markdown",
      "source": [
        "# GradiantBoosting Algorithm"
      ],
      "metadata": {
        "id": "gnBRtn1Mxotl"
      }
    },
    {
      "cell_type": "code",
      "source": [
        "from sklearn.ensemble import GradientBoostingRegressor\n",
        "ensemble = GradientBoostingRegressor()"
      ],
      "metadata": {
        "id": "sLJn2sXxxK0Z"
      },
      "execution_count": null,
      "outputs": []
    },
    {
      "cell_type": "code",
      "source": [
        "ensemble.fit(X_train,Y_train)"
      ],
      "metadata": {
        "id": "VfkQr1E5xKxo"
      },
      "execution_count": null,
      "outputs": []
    },
    {
      "cell_type": "code",
      "source": [
        "r2_score(Y_test, y_pred)"
      ],
      "metadata": {
        "id": "vZ6vLv7kxKvb"
      },
      "execution_count": null,
      "outputs": []
    },
    {
      "cell_type": "code",
      "source": [
        "print(\"Adjusted R2 : \",1-(1-r2_score((Y_test), (y_pred)))*((X_test.shape[0]-1)/(X_test.shape[0]-X_test.shape[1]-1)))"
      ],
      "metadata": {
        "id": "ZLU_ONm2xKqb"
      },
      "execution_count": null,
      "outputs": []
    },
    {
      "cell_type": "code",
      "source": [
        "MSE  = mean_squared_error(Y_test, y_pred)\n",
        "print(\"MSE :\" , MSE)\n",
        "\n",
        "RMSE = np.sqrt(MSE)\n",
        "print(\"RMSE :\" ,RMSE)"
      ],
      "metadata": {
        "id": "1URnzqK3xKnq"
      },
      "execution_count": null,
      "outputs": []
    },
    {
      "cell_type": "code",
      "source": [
        "MAE  = mean_absolute_error(Y_test, y_pred)\n",
        "print(\"MAE :\" , MAE)"
      ],
      "metadata": {
        "id": "7iGecr4zxKlY"
      },
      "execution_count": null,
      "outputs": []
    },
    {
      "cell_type": "code",
      "source": [
        "plt.scatter(Y_test, y_pred)\n",
        "plt.xlabel('Actual')\n",
        "plt.ylabel('Predicted')"
      ],
      "metadata": {
        "id": "MmbRMU0yxKib"
      },
      "execution_count": null,
      "outputs": []
    },
    {
      "cell_type": "markdown",
      "source": [
        "# RandomForest"
      ],
      "metadata": {
        "id": "wgQ5DEzdIRES"
      }
    },
    {
      "cell_type": "markdown",
      "source": [
        "Parameter tuning on ‘n_estimators’, ‘max_depth’ and ‘min_samples_leaf’ parameters."
      ],
      "metadata": {
        "id": "njt8fHG_IXSd"
      }
    },
    {
      "cell_type": "code",
      "source": [
        "from sklearn.ensemble import RandomForestRegressor\n",
        "ensemble_regressior = RandomForestRegressor()"
      ],
      "metadata": {
        "id": "Aav8ZIqIxKfx"
      },
      "execution_count": null,
      "outputs": []
    },
    {
      "cell_type": "code",
      "source": [
        "ensemble_regressior.fit(X_train,Y_train)"
      ],
      "metadata": {
        "id": "_6r1fIe0xKdB"
      },
      "execution_count": null,
      "outputs": []
    },
    {
      "cell_type": "code",
      "source": [
        "y_pred=ensemble_regressior.predict(X_test)"
      ],
      "metadata": {
        "id": "Jyrnrs85xKa1"
      },
      "execution_count": null,
      "outputs": []
    },
    {
      "cell_type": "code",
      "source": [
        "r2_score(Y_test, y_pred)"
      ],
      "metadata": {
        "id": "cLMGRdd4xKXL"
      },
      "execution_count": null,
      "outputs": []
    },
    {
      "cell_type": "code",
      "source": [
        "print(\"Adjusted R2 : \",1-(1-r2_score((Y_test), (y_pred)))*((X_test.shape[0]-1)/(X_test.shape[0]-X_test.shape[1]-1)))"
      ],
      "metadata": {
        "id": "HkrKnR-hxKU7"
      },
      "execution_count": null,
      "outputs": []
    },
    {
      "cell_type": "code",
      "source": [
        "MSE  = mean_squared_error(Y_test, y_pred)\n",
        "print(\"MSE :\" , MSE)\n",
        "\n",
        "RMSE = np.sqrt(MSE)\n",
        "print(\"RMSE :\" ,RMSE)"
      ],
      "metadata": {
        "id": "eIWIlBiDxKRs"
      },
      "execution_count": null,
      "outputs": []
    },
    {
      "cell_type": "code",
      "source": [
        "MAE  = mean_absolute_error(Y_test, y_pred)\n",
        "print(\"MAE :\" , MAE)"
      ],
      "metadata": {
        "id": "fNpvIfZlxKPY"
      },
      "execution_count": null,
      "outputs": []
    },
    {
      "cell_type": "code",
      "source": [
        "plt.scatter(Y_test, y_pred)\n",
        "plt.xlabel('Actual')\n",
        "plt.ylabel('Predicted')"
      ],
      "metadata": {
        "id": "IFnIpuNvxKL0"
      },
      "execution_count": null,
      "outputs": []
    },
    {
      "cell_type": "markdown",
      "source": [
        "# XGBoost"
      ],
      "metadata": {
        "id": "ddgZuX2odvSR"
      }
    },
    {
      "cell_type": "code",
      "source": [
        "import xgboost as xgb\n",
        "\n",
        "X_train, X_test, Y_train, Y_test = train_test_split(X,Y,test_size=0.33, random_state=42)\n",
        "dreg= xgb.XGBRegressor(\n",
        "                        booster= 'gbtree',\n",
        "                        colsample_bylevel= 1,\n",
        "                        colsample_bynode= 1,\n",
        "                        colsample_bytree= 0.7,\n",
        "                        eta= 0.004,\n",
        "                        gamma= 0,\n",
        "                        importance_type= 'gain',\n",
        "                        learning_rate= 0.1,\n",
        "                        max_delta_step= 0,\n",
        "                        max_depth= 9,\n",
        "                        min_child_weight= 10,\n",
        "                        n_estimators= 100,\n",
        "                        n_jobs= 1,\n",
        "                        objective= 'reg:linear',\n",
        "                        random_state= 0,\n",
        "                        reg_alpha= 0,\n",
        "                        reg_lambda= 1,\n",
        "                        scale_pos_weight= 1,\n",
        "                        subsample= 1,\n",
        "                        verbosity= 1)\n",
        "dreg.fit(X_train, Y_train)\n",
        "y_pred = dreg.predict(X_test)\n",
        "#Find R-squared value\n",
        "r2 = r2_score(Y_test, y_pred)\n",
        "# Find Adjusted R-squared value\n",
        "adj_r2=1-(1-r2_score(Y_test, y_pred))*((X_test.shape[0]-1)/(X_test.shape[0]-X_test.shape[1]-1))\n",
        "train_score = dreg.score(X_train, Y_train)\n",
        "test_score = dreg.score(X_test,Y_test)\n",
        "print(f'Train score: {train_score}')\n",
        "print(f'Test score: {test_score}')\n",
        "r2"
      ],
      "metadata": {
        "id": "pZPZlExtxKJh"
      },
      "execution_count": null,
      "outputs": []
    },
    {
      "cell_type": "code",
      "source": [
        "print(r2)\n",
        "print(adj_r2)"
      ],
      "metadata": {
        "id": "jPyXZWLSxKGV"
      },
      "execution_count": null,
      "outputs": []
    },
    {
      "cell_type": "code",
      "source": [
        "MSE  = mean_squared_error(Y_test, y_pred)\n",
        "print(\"MSE :\" , MSE)\n",
        "\n",
        "RMSE = np.sqrt(MSE)\n",
        "print(\"RMSE :\" ,RMSE)"
      ],
      "metadata": {
        "id": "mwgGdMyJxKD1"
      },
      "execution_count": null,
      "outputs": []
    },
    {
      "cell_type": "code",
      "source": [
        "MAE  = mean_absolute_error(Y_test, y_pred)\n",
        "print(\"MAE :\" , MAE)"
      ],
      "metadata": {
        "id": "MNyFPt0ZxKAz"
      },
      "execution_count": null,
      "outputs": []
    },
    {
      "cell_type": "markdown",
      "source": [
        "# Cat boost"
      ],
      "metadata": {
        "id": "tRGUjgNIeINo"
      }
    },
    {
      "cell_type": "code",
      "source": [
        "!pip install catboost"
      ],
      "metadata": {
        "id": "PEuCj9DsxJ-S"
      },
      "execution_count": null,
      "outputs": []
    },
    {
      "cell_type": "code",
      "source": [
        "\n",
        "from catboost import CatBoostRegressor\n",
        "import timeit\n",
        "\n",
        "from sklearn.datasets import make_regression"
      ],
      "metadata": {
        "id": "fHlYaelCxJ7I"
      },
      "execution_count": null,
      "outputs": []
    },
    {
      "cell_type": "code",
      "source": [
        "model = CatBoostRegressor(\n",
        "    iterations=100,\n",
        "    learning_rate=0.03\n",
        "  )"
      ],
      "metadata": {
        "id": "0OHaLbDuxJ4r"
      },
      "execution_count": null,
      "outputs": []
    },
    {
      "cell_type": "code",
      "source": [
        "model.fit(\n",
        "      X_train, Y_train,\n",
        "      eval_set=(X_test, Y_test),\n",
        "      verbose=10);"
      ],
      "metadata": {
        "id": "HXixdMVdfK2h"
      },
      "execution_count": null,
      "outputs": []
    },
    {
      "cell_type": "code",
      "source": [
        "def train_on_cpu():  \n",
        "  model = CatBoostRegressor(\n",
        "    iterations=100,\n",
        "    learning_rate=0.03\n",
        "  )\n",
        "  \n",
        "  model.fit(\n",
        "      X_train, Y_train,\n",
        "      eval_set=(X_test, Y_test),\n",
        "      verbose=10\n",
        "  );   \n",
        "      \n",
        "cpu_time = timeit.timeit('train_on_cpu()', \n",
        "                         setup=\"from __main__ import train_on_cpu\", \n",
        "                         number=1)\n",
        "\n",
        "print('Time to fit model on CPU: {} sec'.format(int(cpu_time)))"
      ],
      "metadata": {
        "id": "MJ8ic9Z1fKzd"
      },
      "execution_count": null,
      "outputs": []
    },
    {
      "cell_type": "code",
      "source": [
        "# Predicting the Test set results\n",
        "\n",
        "y_pred = model.predict(X_test)"
      ],
      "metadata": {
        "id": "waLqUqiffKwK"
      },
      "execution_count": null,
      "outputs": []
    },
    {
      "cell_type": "code",
      "source": [
        "import math\n",
        "math.sqrt(mean_squared_error(Y_test, y_pred))"
      ],
      "metadata": {
        "id": "_-ZyKA1AfKtd"
      },
      "execution_count": null,
      "outputs": []
    },
    {
      "cell_type": "code",
      "source": [
        "print(r2_score(Y_test, y_pred))\n",
        "print(adj_r2)"
      ],
      "metadata": {
        "id": "RVnw75cSfeU9"
      },
      "execution_count": null,
      "outputs": []
    },
    {
      "cell_type": "code",
      "source": [
        "MSE  = mean_squared_error(Y_test, y_pred)\n",
        "print(\"MSE :\" , MSE)\n",
        "\n",
        "RMSE = np.sqrt(MSE)\n",
        "print(\"RMSE :\" ,RMSE)"
      ],
      "metadata": {
        "id": "O8Z1Wkr-feRW"
      },
      "execution_count": null,
      "outputs": []
    },
    {
      "cell_type": "code",
      "source": [
        "\n",
        "MAE  = mean_absolute_error(Y_test, y_pred)\n",
        "print(\"MAE :\" , MAE)"
      ],
      "metadata": {
        "id": "xmmFBO3kfeNg"
      },
      "execution_count": null,
      "outputs": []
    },
    {
      "cell_type": "code",
      "source": [
        "\n",
        "# Validating Assumptions\n",
        "\n",
        "y_train_pred = model.predict(X_train)\n",
        "y_test_pred = model.predict(X_test)"
      ],
      "metadata": {
        "id": "cpTVUA1Gftdb"
      },
      "execution_count": null,
      "outputs": []
    },
    {
      "cell_type": "code",
      "source": [
        "from sklearn.metrics import mean_absolute_error\n",
        "def print_metrics(actual, predicted):\n",
        "  print('MSE is {}'.format(mean_squared_error(actual, predicted)))\n",
        "  print('RMSE is {}'.format(math.sqrt(mean_squared_error(actual, predicted))))\n",
        "  print('RMSE is {}'.format(r2_score(actual, predicted)))\n",
        "  print('MAE is {}'.format(mean_absolute_error(actual, predicted)))\n",
        "  print('MAPE is {}'.format(np.mean(np.abs((actual - predicted) / actual)) * 100))"
      ],
      "metadata": {
        "id": "4p1y5BFEftaN"
      },
      "execution_count": null,
      "outputs": []
    },
    {
      "cell_type": "code",
      "source": [
        "# Evaluation of training Data\n",
        "\n",
        "print_metrics(Y_train, y_train_pred)"
      ],
      "metadata": {
        "id": "MO_et94oftWE"
      },
      "execution_count": null,
      "outputs": []
    },
    {
      "cell_type": "code",
      "source": [
        "# Test dataset metrics\n",
        "\n",
        "print_metrics(Y_test, y_test_pred)"
      ],
      "metadata": {
        "id": "fAXU5IEhftS-"
      },
      "execution_count": null,
      "outputs": []
    },
    {
      "cell_type": "markdown",
      "source": [
        "# Grid Search CV on XGboost algorithm"
      ],
      "metadata": {
        "id": "g-rmpJsAgGLi"
      }
    },
    {
      "cell_type": "code",
      "source": [
        "import warnings\n",
        "warnings.filterwarnings('ignore')\n",
        "import xgboost as xgb\n",
        "\n",
        "xgb = xgb.XGBRegressor(random_state=0)"
      ],
      "metadata": {
        "id": "7aLZmik_ftPK"
      },
      "execution_count": null,
      "outputs": []
    },
    {
      "cell_type": "code",
      "source": [
        "params = {\"min_child_weight\":[10,20], \n",
        "            'eta': [0.004,0.04,4,40], \n",
        "            'colsample_bytree':[0.7], \n",
        "            'max_depth': [7,9,11],\n",
        "          \n",
        "          }"
      ],
      "metadata": {
        "id": "RbpFRRSWftMp"
      },
      "execution_count": null,
      "outputs": []
    },
    {
      "cell_type": "code",
      "source": [
        "reg_gs = GridSearchCV(xgb,param_grid=params, verbose=1,cv=3)\n",
        "reg_gs.fit(X, Y)"
      ],
      "metadata": {
        "id": "qiy3uecTftJQ"
      },
      "execution_count": null,
      "outputs": []
    },
    {
      "cell_type": "code",
      "source": [
        "\n",
        "reg_gs.best_estimator_.get_params()"
      ],
      "metadata": {
        "id": "3DAn2EeNftGR"
      },
      "execution_count": null,
      "outputs": []
    },
    {
      "cell_type": "code",
      "source": [
        "reg_optimal_model =reg_gs.best_estimator_\n",
        "#print(reg_optimal_model)"
      ],
      "metadata": {
        "id": "mM4ONeVyfeKT"
      },
      "execution_count": null,
      "outputs": []
    },
    {
      "cell_type": "code",
      "source": [
        "train_preds = reg_optimal_model.predict(X_train)\n",
        "test_preds = reg_optimal_model.predict(X_test)"
      ],
      "metadata": {
        "id": "0Q5JVkVIgtuO"
      },
      "execution_count": null,
      "outputs": []
    },
    {
      "cell_type": "code",
      "source": [
        "reg_optimal_model.score(X_test,Y_test)"
      ],
      "metadata": {
        "id": "QqonwDi-gtrY"
      },
      "execution_count": null,
      "outputs": []
    },
    {
      "cell_type": "markdown",
      "source": [
        "For Test dataset:"
      ],
      "metadata": {
        "id": "EX8XuiObFAru"
      }
    },
    {
      "cell_type": "code",
      "source": [
        "#Find R-squared value\n",
        "\n",
        "r2 = r2_score(Y_test, test_preds)\n",
        "\n",
        "# Find Adjusted R-squared value\n",
        "\n",
        "adj_r2=1-(1-r2_score(Y_test, test_preds))*((X_test.shape[0]-1)/(X_test.shape[0]-X_test.shape[1]-1))"
      ],
      "metadata": {
        "id": "e_lX5tgKhD2F"
      },
      "execution_count": null,
      "outputs": []
    },
    {
      "cell_type": "code",
      "source": [
        "print(r2)\n",
        "print(adj_r2)"
      ],
      "metadata": {
        "id": "T739_UMkhDuF"
      },
      "execution_count": null,
      "outputs": []
    },
    {
      "cell_type": "markdown",
      "source": [
        "For Train dataset"
      ],
      "metadata": {
        "id": "TRmlmTQ7Fp-4"
      }
    },
    {
      "cell_type": "code",
      "source": [
        "#Find R-squared value\n",
        "r2 = r2_score(Y_train, train_preds)\n",
        "# Find Adjusted R-squared value\n",
        "adj_r2=1-(1-r2_score(Y_train, train_preds))*((X_train.shape[0]-1)/(X_train.shape[0]-X_test.shape[1]-1))"
      ],
      "metadata": {
        "id": "peP1EyMyhDom"
      },
      "execution_count": null,
      "outputs": []
    },
    {
      "cell_type": "code",
      "source": [
        "print(r2)\n",
        "print(adj_r2)"
      ],
      "metadata": {
        "id": "-YrCny8ghDlN"
      },
      "execution_count": null,
      "outputs": []
    },
    {
      "cell_type": "markdown",
      "source": [
        "**We have nearly same r2 score for both the datasets,train and test which leads towards optimal model.**"
      ],
      "metadata": {
        "id": "QqFNv9SsFzQe"
      }
    },
    {
      "cell_type": "markdown",
      "source": [
        "# Principal Component Analysis"
      ],
      "metadata": {
        "id": "OzOkGFwPF5h4"
      }
    },
    {
      "cell_type": "code",
      "source": [
        "# import libraries for PCA\n",
        "from sklearn.decomposition import PCA\n",
        "pca = PCA(n_components=7)\n",
        "# X = df.drop('MEDV',axis=1)\n",
        "X_pca = pca.fit_transform(X)"
      ],
      "metadata": {
        "id": "Q-bfMLMOhDiY"
      },
      "execution_count": null,
      "outputs": []
    },
    {
      "cell_type": "code",
      "source": [
        "print(pca.components_)"
      ],
      "metadata": {
        "id": "NaBhoVowhDfg"
      },
      "execution_count": null,
      "outputs": []
    },
    {
      "cell_type": "code",
      "source": [
        "print(pca.explained_variance_)"
      ],
      "metadata": {
        "id": "tN5oZ8h3hDco"
      },
      "execution_count": null,
      "outputs": []
    },
    {
      "cell_type": "code",
      "source": [
        "df_pca = pd.DataFrame(X_pca,columns=['F1','F2','F3','F4','F5','F6','F7'])\n",
        "df_pca['Rented_Bike_Count'] = SeoulBikeData['Rented_Bike_Count']"
      ],
      "metadata": {
        "id": "s_Q-MQDuhDZi"
      },
      "execution_count": null,
      "outputs": []
    },
    {
      "cell_type": "code",
      "source": [
        "df_pca.head()"
      ],
      "metadata": {
        "id": "771tzojwhDWw"
      },
      "execution_count": null,
      "outputs": []
    },
    {
      "cell_type": "code",
      "source": [
        "df_pca.corr().abs()"
      ],
      "metadata": {
        "id": "nwFVKiI0hDT1"
      },
      "execution_count": null,
      "outputs": []
    },
    {
      "cell_type": "code",
      "source": [
        "#Multicollinearity\n",
        "from statsmodels.stats.outliers_influence import variance_inflation_factor\n",
        "def calc_vif(X):\n",
        " \n",
        "   # Calculating VIF\n",
        "   vif = pd.DataFrame()\n",
        "   vif[\"variables\"] = X.columns\n",
        "   vif[\"VIF\"] = [variance_inflation_factor(X.values, i) for i in range(X.shape[1])]\n",
        " \n",
        "   return(vif)"
      ],
      "metadata": {
        "id": "TBv-LesThDRA"
      },
      "execution_count": null,
      "outputs": []
    },
    {
      "cell_type": "code",
      "source": [
        "\n",
        "calc_vif(df_pca[[feature for feature in df_pca.describe().columns if feature not in ['Rented_Bike_Count']]])"
      ],
      "metadata": {
        "id": "h3RuJrTGhDOK"
      },
      "execution_count": null,
      "outputs": []
    },
    {
      "cell_type": "code",
      "source": [
        "# Lets look at the distribution plot of the features\n",
        "pos = 1\n",
        "fig = plt.figure(figsize=(16,24))\n",
        "for i in df_pca.columns:\n",
        "    pos = pos + 1\n",
        "    sns.displot(df_pca[i])"
      ],
      "metadata": {
        "id": "cdItuCUghDLT"
      },
      "execution_count": null,
      "outputs": []
    },
    {
      "cell_type": "code",
      "source": [
        "from sklearn.model_selection import train_test_split\n",
        "from sklearn.linear_model import LinearRegression\n",
        "from sklearn.linear_model import Lasso\n",
        "from sklearn.model_selection import GridSearchCV\n",
        "from sklearn.metrics import accuracy_score,r2_score,mean_absolute_error,mean_squared_error\n"
      ],
      "metadata": {
        "id": "8AUu_QdHhDIb"
      },
      "execution_count": null,
      "outputs": []
    },
    {
      "cell_type": "code",
      "source": [
        "X_train,X_test,Y_train,Y_test = train_test_split(X , Y, test_size=0.20)\n",
        "print(\"Shape of Train data set is\",X_train.shape,Y_train.shape)\n",
        "print(\"Shape of X_test is \",X_test.shape,Y_test.shape)"
      ],
      "metadata": {
        "id": "1K6OMUfMhDFo"
      },
      "execution_count": null,
      "outputs": []
    },
    {
      "cell_type": "code",
      "source": [
        "### Cross validation\n",
        "\n",
        "lasso = Lasso()\n",
        "parameters = {'alpha': [1e-7,1e-3,1e-2,1e-1,1,5,10,20,100]}\n",
        "regressor = GridSearchCV(lasso, parameters, cv=8)\n",
        "regressor.fit(X_train, Y_train)"
      ],
      "metadata": {
        "id": "tsLu7I_dhDCA"
      },
      "execution_count": null,
      "outputs": []
    },
    {
      "cell_type": "code",
      "source": [
        "optimal=regressor.best_estimator_"
      ],
      "metadata": {
        "id": "R1RVs4zvhC_G"
      },
      "execution_count": null,
      "outputs": []
    },
    {
      "cell_type": "code",
      "source": [
        "y_pred=optimal.predict(X_test)\n",
        "y_pred_train=optimal.predict(X_train)"
      ],
      "metadata": {
        "id": "1dL3i7BOhC8O"
      },
      "execution_count": null,
      "outputs": []
    },
    {
      "cell_type": "code",
      "source": [
        "MSE  = mean_squared_error(Y_test, y_pred)\n",
        "print(\"MSE :\" , MSE)\n",
        "\n",
        "RMSE = np.sqrt(MSE)\n",
        "print(\"RMSE :\" ,RMSE)"
      ],
      "metadata": {
        "id": "kEenWjvXhC5Y"
      },
      "execution_count": null,
      "outputs": []
    },
    {
      "cell_type": "code",
      "source": [
        "#Train datset\n",
        "r2 = r2_score(Y_train, y_pred_train)\n",
        "print(\"R2 Train:\" ,r2)\n",
        "\n",
        "#test dataset\n",
        "r2 = r2_score(Y_test, y_pred)\n",
        "print(\"R2 Test:\" ,r2)"
      ],
      "metadata": {
        "id": "JiFhihEYhC11"
      },
      "execution_count": null,
      "outputs": []
    },
    {
      "cell_type": "markdown",
      "source": [
        "# Grid Search CV on XGboost algorithm"
      ],
      "metadata": {
        "id": "WZnZ8OCoH14S"
      }
    },
    {
      "cell_type": "code",
      "source": [
        "import warnings\n",
        "warnings.filterwarnings('ignore')\n",
        "import xgboost as xgb\n",
        "\n",
        "xgb = xgb.XGBRegressor(random_state=0)"
      ],
      "metadata": {
        "id": "ZFItx63EhCyg"
      },
      "execution_count": null,
      "outputs": []
    },
    {
      "cell_type": "code",
      "source": [
        "params = {\"min_child_weight\":[10,20], \n",
        "            'eta': [0.004,0.04,4,40], \n",
        "            'colsample_bytree':[0.7], \n",
        "            'max_depth': [7,9,11],\n",
        "          \n",
        "          }"
      ],
      "metadata": {
        "id": "vL8hmZb8gtoQ"
      },
      "execution_count": null,
      "outputs": []
    },
    {
      "cell_type": "code",
      "source": [
        "\n",
        "reg_gs = GridSearchCV(xgb,param_grid=params, verbose=1,cv=3)\n",
        "reg_gs.fit(X, Y)"
      ],
      "metadata": {
        "id": "V_mTdLzVgtlo"
      },
      "execution_count": null,
      "outputs": []
    },
    {
      "cell_type": "code",
      "source": [
        "reg_gs.best_estimator_.get_params()"
      ],
      "metadata": {
        "id": "GH-ypinwgtiZ"
      },
      "execution_count": null,
      "outputs": []
    },
    {
      "cell_type": "code",
      "source": [
        "reg_optimal_model =reg_gs.best_estimator_"
      ],
      "metadata": {
        "id": "sErWD9Okgtf3"
      },
      "execution_count": null,
      "outputs": []
    },
    {
      "cell_type": "code",
      "source": [
        "train_preds = reg_optimal_model.predict(X_train)\n",
        "test_preds = reg_optimal_model.predict(X_test)"
      ],
      "metadata": {
        "id": "JAkOwwYqgtc0"
      },
      "execution_count": null,
      "outputs": []
    },
    {
      "cell_type": "code",
      "source": [
        "reg_optimal_model.score(X_test,Y_test)"
      ],
      "metadata": {
        "id": "Mv2SxyiEgtaS"
      },
      "execution_count": null,
      "outputs": []
    },
    {
      "cell_type": "code",
      "source": [
        "##For Test dataset:\n",
        "\n",
        "#Find R-squared value\n",
        "r2 = r2_score(Y_test, test_preds)\n",
        "# Find Adjusted R-squared value\n",
        "adj_r2=1-(1-r2_score(Y_test, test_preds))*((X_test.shape[0]-1)/(X_test.shape[0]-X_test.shape[1]-1))"
      ],
      "metadata": {
        "id": "GMzxiGkjgtXL"
      },
      "execution_count": null,
      "outputs": []
    },
    {
      "cell_type": "code",
      "source": [
        "print(r2)\n",
        "print(adj_r2)"
      ],
      "metadata": {
        "id": "iKgzBwP6gtUr"
      },
      "execution_count": null,
      "outputs": []
    },
    {
      "cell_type": "code",
      "source": [
        "MSE  = mean_squared_error(Y_test, y_pred)\n",
        "print(\"MSE :\" , MSE)\n",
        "\n",
        "RMSE = np.sqrt(MSE)\n",
        "print(\"RMSE :\" ,RMSE)\n",
        "MAE  = mean_absolute_error(Y_test, y_pred)\n",
        "print(\"MAE :\" , MAE)"
      ],
      "metadata": {
        "id": "BHW8vR_ygtRm"
      },
      "execution_count": null,
      "outputs": []
    },
    {
      "cell_type": "markdown",
      "source": [
        "# **Conclusion**"
      ],
      "metadata": {
        "id": "gCX9965dhzqZ"
      }
    },
    {
      "cell_type": "markdown",
      "source": [
        "*When we compare the root mean squared error and mean absolute error of all the models, **the XGBoost** model has less root mean squared error and mean absolute error, ending with the accuracy of **94%** . So, finally this model is best for predicting the bike rental count on daily basis. As we can see the total amount of bike rentals increases with the temperature per month. Whereas it seems that the rentals are independent of the windspeed and the humidity, because they are almost constant over the months. This also confirms on the one hand the high correlation between rentals and temperature and on the other hand that nice weather could be a good predictor.So people mainly rent bikes on the days with nice wheather and nice temperature. This could be important for planning new bike rental stations.*"
      ],
      "metadata": {
        "id": "Fjb1IsQkh3yE"
      }
    },
    {
      "cell_type": "markdown",
      "source": [
        "# -- -- -- -- -- -- -- -- -- --END -- -- -- -- -- -- -- -- -- -- -- -- -- "
      ],
      "metadata": {
        "id": "gIfDvo9L0UH2"
      }
    }
  ]
}